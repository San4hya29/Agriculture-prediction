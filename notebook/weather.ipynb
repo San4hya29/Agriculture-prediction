{
 "cells": [
  {
   "cell_type": "code",
   "execution_count": 1,
   "metadata": {},
   "outputs": [
    {
     "name": "stdout",
     "output_type": "stream",
     "text": [
      "Temperature is 28°C\n",
      "Time:  Saturday 7:36 pm\n",
      "Sky Description:  Haze\n",
      "ट\n"
     ]
    }
   ],
   "source": [
    "# importing library\n",
    "import requests\n",
    "from bs4 import BeautifulSoup\n",
    "\n",
    "# enter city name\n",
    "city = \"lucknow\"\n",
    "\n",
    "# creating url and requests instance\n",
    "url = \"https://www.google.com/search?q=\"+\"weather\"+city\n",
    "html = requests.get(url).content\n",
    "\n",
    "# getting raw data\n",
    "soup = BeautifulSoup(html, 'html.parser')\n",
    "temp = soup.find('div', attrs={'class': 'BNeawe iBp4i AP7Wnd'}).text\n",
    "str = soup.find('div', attrs={'class': 'BNeawe tAd8D AP7Wnd'}).text\n",
    "\n",
    "# formatting data\n",
    "data = str.split('\\n')\n",
    "time = data[0]\n",
    "sky = data[1]\n",
    "\n",
    "# getting all div tag\n",
    "listdiv = soup.findAll('div', attrs={'class': 'BNeawe s3v9rd AP7Wnd'})\n",
    "strd = listdiv[5].text\n",
    "\n",
    "# getting other required data\n",
    "pos = strd.find('Wind')\n",
    "other_data = strd[pos:]\n",
    "\n",
    "# printing all data\n",
    "print(\"Temperature is\", temp)\n",
    "print(\"Time: \", time)\n",
    "print(\"Sky Description: \", sky)\n",
    "print(other_data)\n"
   ]
  }
 ],
 "metadata": {
  "kernelspec": {
   "display_name": "Python 3",
   "language": "python",
   "name": "python3"
  },
  "language_info": {
   "codemirror_mode": {
    "name": "ipython",
    "version": 3
   },
   "file_extension": ".py",
   "mimetype": "text/x-python",
   "name": "python",
   "nbconvert_exporter": "python",
   "pygments_lexer": "ipython3",
   "version": "3.11.1"
  },
  "orig_nbformat": 4
 },
 "nbformat": 4,
 "nbformat_minor": 2
}
